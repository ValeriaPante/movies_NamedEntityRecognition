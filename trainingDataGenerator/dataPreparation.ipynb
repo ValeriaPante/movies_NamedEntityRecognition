{
 "cells": [
  {
   "cell_type": "code",
   "execution_count": null,
   "metadata": {},
   "outputs": [],
   "source": [
    "! python -m spacy download en_core_web_sm"
   ]
  },
  {
   "cell_type": "code",
   "execution_count": 4,
   "metadata": {},
   "outputs": [
    {
     "name": "stderr",
     "output_type": "stream",
     "text": [
      " 36%|███▌      | 2055/5764 [00:00<00:00, 4119.63it/s]"
     ]
    },
    {
     "name": "stdout",
     "output_type": "stream",
     "text": [
      "which TV Show where made in  and South Korea?\n",
      "Skipping entity\n",
      "Present all Movie crafted by McG.\n",
      "Skipping entity\n"
     ]
    },
    {
     "name": "stderr",
     "output_type": "stream",
     "text": [
      "100%|██████████| 5764/5764 [00:01<00:00, 4358.83it/s]\n",
      "100%|██████████| 1707/1707 [00:00<00:00, 4161.57it/s]\n",
      "100%|██████████| 849/849 [00:00<00:00, 3845.04it/s]\n"
     ]
    }
   ],
   "source": [
    "import pickle\n",
    "import random\n",
    "from tqdm import tqdm\n",
    "\n",
    "import spacy\n",
    "from spacy.tokens import DocBin\n",
    "\n",
    "for dev_set in ['train', 'val', 'test']:\n",
    "\n",
    "    with open(f'{dev_set}.pkl', 'rb') as f:\n",
    "\n",
    "        data = pickle.load(f)\n",
    "\n",
    "    random.shuffle(data)\n",
    "\n",
    "    nlp = spacy.load(\"en_core_web_sm\") # load other spacy model\n",
    "\n",
    "    db = DocBin() # create a DocBin object\n",
    "\n",
    "    unrecon = []\n",
    "\n",
    "    for text, annot in tqdm(data): # data in previous format\n",
    "        doc = nlp.make_doc(text) # create doc object from text\n",
    "        ents = []\n",
    "        annot[\"entities\"] = [list(x) for x in set([tuple(x) for x in annot[\"entities\"]])]\n",
    "        for start, end, label in annot[\"entities\"]: # add character indexes\n",
    "            span = doc.char_span(start, end, label=label, alignment_mode=\"contract\")\n",
    "            if span is None:\n",
    "                print(text)\n",
    "                print(\"Skipping entity\")\n",
    "            else:\n",
    "                ents.append(span)\n",
    "        try:\n",
    "            doc.ents = ents # label the text with the ents\n",
    "        except:\n",
    "            unrecon.append(text)\n",
    "        db.add(doc)\n",
    "\n",
    "    db.to_disk(f\"../data/{dev_set}.spacy\")"
   ]
  }
 ],
 "metadata": {
  "kernelspec": {
   "display_name": "nielsen",
   "language": "python",
   "name": "python3"
  },
  "language_info": {
   "codemirror_mode": {
    "name": "ipython",
    "version": 3
   },
   "file_extension": ".py",
   "mimetype": "text/x-python",
   "name": "python",
   "nbconvert_exporter": "python",
   "pygments_lexer": "ipython3",
   "version": "3.9.2"
  }
 },
 "nbformat": 4,
 "nbformat_minor": 2
}
